{
 "cells": [
  {
   "cell_type": "markdown",
   "metadata": {},
   "source": [
    "# Небольшое введение в Jupyter Notebook\n",
    "\n",
    "Ноутбук является удобной средой для проведения экспериментов и выполнения кода в интерактивном режиме. Код в ноутбуке поделен на ячейки. Выполнять их можно в любом порядке, каждое выполнение вносит изменения в рабочую среду.\n",
    "\n",
    "У ноутбука есть два режима:\n",
    "1. командный режим -- синий контур у ячейки;\n",
    "2. режим редактирования -- зеленый контур для ячейки.\n",
    "\n",
    "Ячейки бывают 3 типов:\n",
    "1. `Code` -- при выполнении ячейки выполняется соответствующий код (`In []:` слева от ячейки).\n",
    "2. `Markdown` -- при выполнении ячейки, текст оформляется красивенько (текущая ячейка имеет такой тип).\n",
    "3. `Raw` -- сырые данные, которые никак не используются.\n",
    "\n",
    "Краткий справочник команд для командного режима:\n",
    "1. `Escape` --  перейти в командный режим.\n",
    "2. `A` -- добавить ячейку перед текущей;\n",
    "3. `B` -- добавить ячейку после текущей;\n",
    "4. `d-d` -- удалить текущую ячейку;\n",
    "5. `C` -- скопировать текущую ячейку;\n",
    "6. `X` -- вырезать текущую ячейку;\n",
    "7. `V` -- вставить скопированную ячейку после текущей;\n",
    "8. `Z` -- отменить удаление ячейки;\n",
    "9. `Y` -- назначить тип ячейки *code*;\n",
    "10. `M` -- назначить тип ячейки *markdown*;\n",
    "11. `R` -- назначить тип ячейки *raw*;\n",
    "12. `Ctrl+Enter` -- выполнить текущую ячейку (доступно в режиме редактирования);\n",
    "13. `Shift+Enter` -- выполнить текущую ячейку и перейти к следующей (доступно в режиме редактирования).\n",
    "\n",
    "В дополнение несколько полезных ссылок:\n",
    "* [Markdown Cheat Sheet](http://nestacms.com/docs/creating-content/markdown-cheat-sheet)\n",
    "* [Advanced Jupyter Notebook Tricks](https://blog.dominodatalab.com/lesser-known-ways-of-using-notebooks/)\n",
    "\n",
    "\n",
    "# Некоторые сведения о библиотеках Python\n",
    "\n",
    "Удобным инструментом для работы с данными является библиотека __pandas__. Подробную документацию можно посмотреть на сайте: https://pandas.pydata.org/docs/\n",
    "\n",
    "Для выполнения математических операций над векторами и матрицами используют библиотеку __numpy__. Подробности тут: https://docs.scipy.org/doc/numpy/reference/\n",
    "\n",
    "Научные вычисления реализованы в библиотеке __scipy__. О ней можно прочитать здесь: https://docs.scipy.org/doc/scipy/reference/\n",
    "\n",
    "Для визуализации часто применяются библиотеки __matplotlib__ и её высокоуровневая надстройка __pyplot__ (она встроена в matplotlib). Сайт проекта: https://matplotlib.org/\n",
    "\n",
    "Полезности:\n",
    "* [Отличные уроки по визуализации в matplotlib](https://nbviewer.jupyter.org/github/whitehorn/Scientific_graphics_in_python/blob/master/P1%20Chapter%201%20Pyplot.ipynb)\n",
    "* [Лекции по scipy и numpy](http://scipy-lectures.org/index.html)\n",
    "* [Шпаргалка по pandas](https://github.com/pandas-dev/pandas/blob/master/doc/cheatsheet/Pandas_Cheat_Sheet.pdf)"
   ]
  },
  {
   "cell_type": "code",
   "execution_count": null,
   "metadata": {},
   "outputs": [],
   "source": [
    "import pandas as pd # as pd -- создание короткого имени для импортируемой библиотеки\n",
    "import numpy as np\n",
    "import matplotlib.pyplot as plt"
   ]
  },
  {
   "cell_type": "markdown",
   "metadata": {},
   "source": [
    "# 1. Считывание данных\n",
    "\n",
    "Загрузим данные о росте и длине ноги. Датасет взят отсюда: https://osf.io/ja9dw/"
   ]
  },
  {
   "cell_type": "code",
   "execution_count": null,
   "metadata": {},
   "outputs": [],
   "source": [
    "# чтение данных формата comma separated values\n",
    "df = pd.read_csv('../data/01-foot-length-height.csv')\n",
    "\n",
    "print('Число наблюдений:', len(df))\n",
    "# команды df.head() и df.tail() показывают несколько первых и последних строк таблицы соответственно\n",
    "# команда display() умеет красиво выводить таблицы на экран\n",
    "display(df.head())"
   ]
  },
  {
   "cell_type": "markdown",
   "metadata": {},
   "source": [
    "Небольшие примеры, как работать с данными:"
   ]
  },
  {
   "cell_type": "code",
   "execution_count": null,
   "metadata": {},
   "outputs": [],
   "source": [
    "# чтобы посмотреть на данные, можно вызвать функцию describe()\n",
    "df.describe()"
   ]
  },
  {
   "cell_type": "markdown",
   "metadata": {},
   "source": [
    "Средний рост людей в выборке:"
   ]
  },
  {
   "cell_type": "code",
   "execution_count": null,
   "metadata": {},
   "outputs": [],
   "source": [
    "# заметим, что к столбцам можно обращаться через точку, как к полям класса.\n",
    "df.height.mean()"
   ]
  },
  {
   "cell_type": "markdown",
   "metadata": {},
   "source": [
    "Максимальный рост мужчин:"
   ]
  },
  {
   "cell_type": "code",
   "execution_count": null,
   "metadata": {},
   "outputs": [],
   "source": [
    "# альтернативный вариант -- использование квадратных скобок\n",
    "# обратите внимание, как можно фильтровать данные\n",
    "df[df.sex == 'man'].height.max()"
   ]
  },
  {
   "cell_type": "markdown",
   "metadata": {},
   "source": [
    "Можно пройтись по всем записям данных:"
   ]
  },
  {
   "cell_type": "code",
   "execution_count": null,
   "metadata": {},
   "outputs": [],
   "source": [
    "# loc позволяет вытащить строку по индексу\n",
    "for idx in df.index[:2]:\n",
    "    rec = df.loc[idx]\n",
    "    print('Строка с индексом ', idx)\n",
    "    display(rec) # каждая строка имеет тип pd.Series\n",
    "    print('Рост этого наблюдаемого:', rec.height)\n",
    "    print('\\n')"
   ]
  },
  {
   "cell_type": "markdown",
   "metadata": {},
   "source": [
    "# 2. Эмпирическая функция распределения\n",
    "\n",
    "В этой секции Вам предлагается построить эмпирическую функцию распределения.\n",
    "\n",
    "Пусть дана выборка $X_1, \\ldots, X_n$ из распределения $\\mathcal{L}(x) \\sim F(x)$. Функция распределения не известна и мы хотим приблизить её по эмпирическим данным.\n",
    "\n",
    "__Определение__. Эмпирической функцией распределения называется функция $$F_n(x) = \\frac{1}{n} \\sum\\limits_{k=1}^n \\mathsf{1}(X_k < x), \\quad x \\in \\mathbb{R}.$$\n",
    "\n",
    "Эмпирическая функция распределения обладает следующими свойствами:\n",
    "\n",
    "* имеет биномиальное распределение $F_n(x) \\sim Bi(n, F(x))$;\n",
    "* несмещенная оценка теоретической ф.р. $F(x)$;\n",
    "* состоятельная оценка теоретической ф.р. $F(x)$;\n",
    "* в силу УЗБЧ $F_n(x)$ сходится почти всюду к $F(x)$ (при фиксированном $x$);\n",
    "* ассимптотически нормально распределена.\n",
    "\n",
    "__Задача 1:__ Построить график ЭФР распределения роста мужчин и роста женщин."
   ]
  },
  {
   "cell_type": "code",
   "execution_count": null,
   "metadata": {},
   "outputs": [],
   "source": [
    "# разделим данные на два набора\n",
    "ecdf_man = df[df.sex == 'man'].height.values\n",
    "ecdf_woman = df[df.sex == 'woman'].height.values\n",
    "\n",
    "print('Число мужчин:', len(ecdf_man))\n",
    "print('Число женщин:', len(ecdf_woman))"
   ]
  },
  {
   "cell_type": "code",
   "execution_count": null,
   "metadata": {},
   "outputs": [],
   "source": [
    "# написать функцию, которая на вход принимает точку x и выборку data,\n",
    "# а на выходе выдает число от 0 до 1 -- значение ЭФР\n",
    "def ecdf(x, data) -> float:\n",
    "    ### Ваш код ###\n",
    "    return 1 * (x > 170) # затычка"
   ]
  },
  {
   "cell_type": "code",
   "execution_count": null,
   "metadata": {},
   "outputs": [],
   "source": [
    "# создаем равномерную сетку от -10 до 10 со 128 узлами\n",
    "X = np.linspace(150, 210, 128)\n",
    "\n",
    "# вычисляем ЭФР для мужчин\n",
    "ecdf_man = np.array([ecdf(x, ecdf_man) for x in X])\n",
    "ecdf_woman = np.array([ecdf(x, ecdf_woman) for x in X])\n",
    "\n",
    "# строим график\n",
    "_, ax = plt.subplots(1, 1, figsize=(12,5))\n",
    "ax.step(X, ecdf_man, color='blue', label='man')\n",
    "ax.step(X, ecdf_woman, color='green', label='woman')\n",
    "ax.legend()\n",
    "plt.show()"
   ]
  },
  {
   "cell_type": "markdown",
   "metadata": {},
   "source": [
    "# 3. Гистограмма\n",
    "\n",
    "Пусть у нас есть множество возможных значений $E$ для случайной величины с ф.р. $F(x)$.\n",
    "\n",
    "Представим $E = \\cup_{k=1}^r E_k$, где $E_i \\cap E_j = \\emptyset, i \\neq j$.\n",
    "\n",
    "__Определение__ Гистограммой называется набор пар $(E_k, v_k), k=1,\\ldots,r$, где $$ v_k = \\sum\\limits_{i=1}^n \\mathsf{1}(X_i \\in E_k).$$\n",
    "\n",
    "Свойства гистограммы:\n",
    "* В случае дискретного распределения, величина $\\tfrac{v_k}{n}$ сходится по вероятности к $p_k$ -- вероятности выпадения исхода $a_k \\equiv E_k$.\n",
    "* В случае абсолютно непрерывного распределения, величина $\\tfrac{v_k}{n}$ сходится по вероятности к $p_k = \\int_{|E_k|} p(x) dx$.\n",
    "\n",
    "__Задача 2:__ Построить график гистограммы распределения размера ноги."
   ]
  },
  {
   "cell_type": "code",
   "execution_count": null,
   "metadata": {},
   "outputs": [],
   "source": [
    "# подготовка данных\n",
    "discrete_data = np.array(df.shoe_size)\n",
    "\n",
    "print('Размер выборки:', len(discrete_data))\n",
    "discrete_data[:5]"
   ]
  },
  {
   "cell_type": "code",
   "execution_count": null,
   "metadata": {},
   "outputs": [],
   "source": [
    "# написать функцию, которая получает на вход выборку data,\n",
    "# а возвращает два массива:\n",
    "# первый содержит частоты v_k\n",
    "# второй содержит значения a_k\n",
    "def discrete_hist(data):\n",
    "    ### Ваш код ###\n",
    "    return [0, 1], [40.0, 41.0] # затычка"
   ]
  },
  {
   "cell_type": "code",
   "execution_count": null,
   "metadata": {},
   "outputs": [],
   "source": [
    "# считаем значения гистограммы\n",
    "hist_values, hist_keys = discrete_hist(discrete_data)\n",
    "\n",
    "# строим гистограмму\n",
    "_, ax = plt.subplots(1, 1, figsize=(5,4))\n",
    "ax.bar(hist_keys, hist_values, width=0.5)\n",
    "\n",
    "plt.show()"
   ]
  },
  {
   "cell_type": "markdown",
   "metadata": {},
   "source": [
    "__Задача 3:__ Построить график гистограммы распределения роста."
   ]
  },
  {
   "cell_type": "code",
   "execution_count": null,
   "metadata": {},
   "outputs": [],
   "source": [
    "# подготовка данных\n",
    "continuous_data = np.array(df.height)\n",
    "\n",
    "print('Размер выборки:', len(continuous_data))\n",
    "continuous_data[:5]"
   ]
  },
  {
   "cell_type": "code",
   "execution_count": null,
   "metadata": {},
   "outputs": [],
   "source": [
    "# написать функцию, которая получает на вход выборку\n",
    "# и количество сегментов разбиения (бинов, англ. bins),\n",
    "# а на выходе возвращает два массива\n",
    "# первый содержит оценки плотности v_k / (n * длина_бина)\n",
    "# второй содержит середины бинов\n",
    "# указание: в качестве множества значений можно взять сегмент от минимума до максимума\n",
    "\n",
    "def continuous_hist(data, bins=4):\n",
    "    ### Ваш код ###\n",
    "    return [0.1 for x in range(bins)], [x for x in range(-bins//2, bins//2)] # затычка"
   ]
  },
  {
   "cell_type": "code",
   "execution_count": null,
   "metadata": {},
   "outputs": [],
   "source": [
    "# считаем гистограмму\n",
    "bins = 10\n",
    "hist_values, hist_bins = continuous_hist(continuous_data, bins=bins)\n",
    "\n",
    "bar_width = 0.6 * (hist_bins[1] - hist_bins[0])\n",
    "_, ax = plt.subplots(1, 1, figsize=(10,5))\n",
    "ax.bar(hist_bins, hist_values, width=bar_width)\n",
    "plt.show()"
   ]
  },
  {
   "cell_type": "markdown",
   "metadata": {},
   "source": [
    "# 4. Ядерная оценка плотности\n",
    "\n",
    "Пусть функция $K(x)$ является плотностью вероятности некоторого симметричного распределения, то есть:\n",
    "* неотрицательная: $K(x) \\geqslant 0,~x \\in \\mathbb{R}$;\n",
    "* четная: $K(x) = K(-x),~ x \\in \\mathbb{R}$;\n",
    "* нормированная: $\\int_{\\mathbb{R}} K(x) dx = 1$.\n",
    "\n",
    "__Определение__ Ядерной оценкой плотности с _шириной полосы_ $h > 0$ и с ядром $K(x)$ называется функция $$p_n(x) = \\frac{1}{n h} \\sum\\limits_{i=1}^n K\\left(\\frac{x - X_i}{h}\\right), \\quad x \\in \\mathbb{R}.$$\n",
    "\n",
    "__Задача 4:__ Построить графики ядерной оценки плотности распределения роста женщин, мужчин и людей в целом (3 линии на графике).\n",
    "В качестве ядра сглаживания использовать плотность стандартного нормального распределения $$ K(x) = \\tfrac{1}{\\sqrt{2\\pi}}e^{-x^2/2}, \\quad x \\in \\mathbb{R}.$$"
   ]
  },
  {
   "cell_type": "code",
   "execution_count": null,
   "metadata": {},
   "outputs": [],
   "source": [
    "kde_data = np.array(df.height)\n",
    "\n",
    "print('Размер выборки:', len(kde_data))\n",
    "kde_data[:5]"
   ]
  },
  {
   "cell_type": "code",
   "execution_count": null,
   "metadata": {},
   "outputs": [],
   "source": [
    "# написать функцию, которая на вход принимает точку x, выборку data и ширину полосы h,\n",
    "# а на выход выдает неотрицательное число -- ядерную оценку плотности\n",
    "\n",
    "def kde(x, data, h):\n",
    "    ### Ваш код ###\n",
    "    return np.maximum(h - np.abs(x / h), 0)"
   ]
  },
  {
   "cell_type": "code",
   "execution_count": null,
   "metadata": {},
   "outputs": [],
   "source": [
    "# число бинов для гистограммы и значения ширины полосы\n",
    "bins = 10\n",
    "h_list = [1, 3, 10] \n",
    "\n",
    "# строим графики\n",
    "_, ax = plt.subplots(1, 1, figsize=(10,5))\n",
    "\n",
    "# гистограмма\n",
    "hist_values, hist_bins = continuous_hist(kde_data, bins)\n",
    "bar_width = 0.6 * (hist_bins[1] - hist_bins[0])\n",
    "ax.bar(hist_bins, hist_values, width=bar_width)\n",
    "\n",
    "# kde графики\n",
    "x_plt = np.linspace(140, 220, 128)\n",
    "for h, color in zip(h_list, ['blue','red','purple','green','black','brown']):\n",
    "    kde_plt = np.array([kde(x, kde_data, h) for x in x_plt])\n",
    "    ax.plot(x_plt, kde_plt, color=color, label=f'h={h}')\n",
    "    \n",
    "ax.legend()\n",
    "plt.show()"
   ]
  },
  {
   "cell_type": "markdown",
   "metadata": {},
   "source": [
    "# Заключение\n",
    "\n",
    "Для отправки задания на проверку:\n",
    "* Выберите Kernel-> Restart & Run All. Убедитесь, что Ваш код работает исправно с начала и до конца.\n",
    "* Создайте HTML-версию ноутбука: File -> Download as -> HTML.\n",
    "* Тема письма: \"Математическая статистика 2020, группа 205, задание 01\". В тексте напишите ФИО, вариант (easy/hard) и прикрепите 2 файла: .html и .ipynb.\n",
    "* Желательно, чтобы называния были в формате \"01-surname-<easy/hard>.html\""
   ]
  },
  {
   "cell_type": "code",
   "execution_count": null,
   "metadata": {},
   "outputs": [],
   "source": []
  }
 ],
 "metadata": {
  "kernelspec": {
   "display_name": "Python 3",
   "language": "python",
   "name": "python3"
  },
  "language_info": {
   "codemirror_mode": {
    "name": "ipython",
    "version": 3
   },
   "file_extension": ".py",
   "mimetype": "text/x-python",
   "name": "python",
   "nbconvert_exporter": "python",
   "pygments_lexer": "ipython3",
   "version": "3.7.5"
  }
 },
 "nbformat": 4,
 "nbformat_minor": 2
}
