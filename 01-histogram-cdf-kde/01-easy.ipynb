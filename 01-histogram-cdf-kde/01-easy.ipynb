{
 "cells": [
  {
   "cell_type": "code",
   "execution_count": 1,
   "metadata": {},
   "outputs": [],
   "source": [
    "import pandas as pd"
   ]
  },
  {
   "cell_type": "markdown",
   "metadata": {},
   "source": [
    "# 1. Считывание данных\n",
    "\n",
    "Удобным инструментом для работы с данными является библиотека __Pandas__. Подробную документацию можно посмотреть на сайте: https://pandas.pydata.org/docs/\n",
    "\n",
    "Для выполнения математических операций над векторами и матрицами используют библиотеку __numpy__. В целом "
   ]
  },
  {
   "cell_type": "code",
   "execution_count": null,
   "metadata": {},
   "outputs": [],
   "source": [
    "df = pd.read_csv('./data/')"
   ]
  },
  {
   "cell_type": "markdown",
   "metadata": {},
   "source": [
    "# 2. Эмпирическая функция распределения\n",
    "\n",
    "В этой секции Вам предлагается построить эмпирическую функцию распределения.\n",
    "\n",
    "Пусть дана выборка $X_1, \\ldots, X_n$ из распределения $\\mathcal{L}(x) \\sim F(x)$. Функция распределения не известна и мы хотим приблизить её по эмпирическим данным.\n",
    "\n",
    "__Определение 1__. Эмпирической функцией распределения называется функция $$F_n(x) = \\frac{1}{n} \\sum\\limits_{k=1}^n \\mathsf{1}(X_k < x), \\quad x \\in \\mathbb{R}.$$\n",
    "\n",
    "Эмпирическая функция распределения обладает следующими свойствами:\n",
    "\n",
    "* является случайной функцией;\n",
    "* для фиксированного $x$ является случайной величиной;\n",
    "* для каждой реализации выборки является ф.р. некоторой дискретной случайной величины;\n",
    "* имеет биномиальное распределение ;"
   ]
  },
  {
   "cell_type": "code",
   "execution_count": null,
   "metadata": {},
   "outputs": [],
   "source": []
  }
 ],
 "metadata": {
  "kernelspec": {
   "display_name": "Python 3",
   "language": "python",
   "name": "python3"
  },
  "language_info": {
   "codemirror_mode": {
    "name": "ipython",
    "version": 3
   },
   "file_extension": ".py",
   "mimetype": "text/x-python",
   "name": "python",
   "nbconvert_exporter": "python",
   "pygments_lexer": "ipython3",
   "version": "3.7.5"
  }
 },
 "nbformat": 4,
 "nbformat_minor": 2
}
